{
 "cells": [
  {
   "cell_type": "markdown",
   "id": "edac70a8-e171-4ae6-92f4-2297e1766cab",
   "metadata": {},
   "source": [
    "# Data and metrics"
   ]
  },
  {
   "cell_type": "markdown",
   "id": "e1360ef9-4b28-4aa4-b243-128b9a6719de",
   "metadata": {},
   "source": [
    "Some text here explaining stuff\n",
    "- A list maybe"
   ]
  },
  {
   "cell_type": "code",
   "execution_count": 1,
   "id": "5f3e428f-a951-4b71-8640-6f51fa8d2cbd",
   "metadata": {},
   "outputs": [],
   "source": [
    "import mirdata\n",
    "import librosa\n",
    "import mir_eval\n",
    "from tqdm import tqdm"
   ]
  },
  {
   "cell_type": "code",
   "execution_count": 2,
   "id": "12ecc046-5108-4831-aa47-eab2635decde",
   "metadata": {},
   "outputs": [],
   "source": [
    "dataset = mirdata.initialize('groove_midi')"
   ]
  },
  {
   "cell_type": "code",
   "execution_count": 3,
   "id": "f4aeca4f-b3b3-4cb1-be46-e7cf882f0b5c",
   "metadata": {},
   "outputs": [],
   "source": [
    "# dataset.download()  # downloading a dataset to work with"
   ]
  },
  {
   "cell_type": "code",
   "execution_count": 4,
   "id": "0758d112-06f4-4277-a508-0c3e80c592db",
   "metadata": {},
   "outputs": [
    {
     "name": "stderr",
     "output_type": "stream",
     "text": [
      "100%|█████████████████████████████████████████████████████████████████████| 1/1 [00:00<00:00, 308.84it/s]\n",
      "100%|████████████████████████████████████████████████████████████████| 1150/1150 [00:17<00:00, 66.87it/s]\n",
      "INFO: Success: the dataset is complete and all files are valid.\n",
      "INFO: --------------------\n"
     ]
    },
    {
     "data": {
      "text/plain": [
       "({'metadata': {}, 'tracks': {}}, {'metadata': {}, 'tracks': {}})"
      ]
     },
     "execution_count": 4,
     "metadata": {},
     "output_type": "execute_result"
    }
   ],
   "source": [
    "dataset.validate()  # checking data were downloaded correctly"
   ]
  },
  {
   "cell_type": "code",
   "execution_count": 5,
   "id": "cab25d17-5f81-4d53-8905-c726c3d54fe1",
   "metadata": {},
   "outputs": [
    {
     "name": "stderr",
     "output_type": "stream",
     "text": [
      "100%|████████████████████████████████████████████████████████████████████| 15/15 [00:34<00:00,  2.33s/it]\n"
     ]
    }
   ],
   "source": [
    "scores = {}  # compute scores for a beat tracker\n",
    "for track_id in tqdm(dataset.track_ids[:15]):  # first 15 files for illustration\n",
    "    track = dataset.track(track_id)\n",
    "    audio, sr = track.audio\n",
    "    ref_beats = track.beats.times\n",
    "    est_tempo, est_beats = librosa.beat.beat_track(y=audio, sr=sr)\n",
    "    est_beats = librosa.frames_to_time(est_beats, sr=sr)\n",
    "    track_scores = {'f1': mir_eval.beat.f_measure(ref_beats, est_beats),\n",
    "                    'cemgil': mir_eval.beat.cemgil(ref_beats, est_beats)[0]}\n",
    "    track_scores.update({m:v for m,v in zip(['CMLc', 'CMLt', 'AMLc', 'AMLt'], \n",
    "                                            mir_eval.beat.continuity(ref_beats, est_beats))})\n",
    "    scores[track_id] = track_scores"
   ]
  },
  {
   "cell_type": "code",
   "execution_count": 6,
   "id": "4daf696f-7eff-4d77-997f-359fd037b50e",
   "metadata": {},
   "outputs": [
    {
     "data": {
      "text/plain": [
       "({'f1': 0.2678571428571429,\n",
       "  'cemgil': 0.22198299367893023,\n",
       "  'CMLc': 0.004228329809725159,\n",
       "  'CMLt': 0.042283298097251586,\n",
       "  'AMLc': 0.004228329809725159,\n",
       "  'AMLt': 0.042283298097251586},\n",
       " 'drummer1/session1/102')"
      ]
     },
     "execution_count": 6,
     "metadata": {},
     "output_type": "execute_result"
    }
   ],
   "source": [
    "scores[track_id], track_id"
   ]
  }
 ],
 "metadata": {
  "kernelspec": {
   "display_name": "Python 3 (ipykernel)",
   "language": "python",
   "name": "python3"
  },
  "language_info": {
   "codemirror_mode": {
    "name": "ipython",
    "version": 3
   },
   "file_extension": ".py",
   "mimetype": "text/x-python",
   "name": "python",
   "nbconvert_exporter": "python",
   "pygments_lexer": "ipython3",
   "version": "3.8.11"
  }
 },
 "nbformat": 4,
 "nbformat_minor": 5
}
